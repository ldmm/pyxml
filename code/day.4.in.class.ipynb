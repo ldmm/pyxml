{
 "cells": [
  {
   "cell_type": "code",
   "execution_count": 1,
   "metadata": {},
   "outputs": [],
   "source": [
    "from bs4 import BeautifulSoup\n",
    "from lxml import etree\n",
    "import lxml"
   ]
  },
  {
   "cell_type": "code",
   "execution_count": 8,
   "metadata": {},
   "outputs": [
    {
     "name": "stdout",
     "output_type": "stream",
     "text": [
      "b'<whatever><one>This is part of the line <foo name=\"12345\">yo!</foo> and the rest of the line</one></whatever>'\n"
     ]
    }
   ],
   "source": [
    "rootElement = etree.Element(\"whatever\")\n",
    "\n",
    "oneElement = etree.SubElement(rootElement, \"one\")\n",
    "oneElement.text = \"This is part of the line \"\n",
    "\n",
    "fooElement = etree.SubElement(oneElement, 'foo')\n",
    "fooElement.set('name', '12345')\n",
    "fooElement.text = 'yo!'\n",
    "fooElement.tail = \" and the rest of the line\"\n",
    "\n",
    "xmlString = etree.tostring(rootElement, pretty_print=False, encoding='UTF-8')\n",
    "print(xmlString)"
   ]
  },
  {
   "cell_type": "code",
   "execution_count": 20,
   "metadata": {},
   "outputs": [
    {
     "name": "stdout",
     "output_type": "stream",
     "text": [
      "normal: this\n",
      "normal: is\n",
      "normal: a\n",
      "normal: test\n",
      "hi: _what_,\n",
      "normal: for\n",
      "normal: me\n",
      "hi: _too_:\n",
      "normal: one\n"
     ]
    }
   ],
   "source": [
    "text = 'this is a test _what_, for me _too_: one'\n",
    "\n",
    "listOfWords = text.split()\n",
    "for low in listOfWords:\n",
    "    if low[0] == '_' or low[-1]== '_':\n",
    "        print('hi:', low)\n",
    "    else:\n",
    "        print('normal:',low)\n",
    "        \n",
    "\n",
    "        \n",
    "        "
   ]
  },
  {
   "cell_type": "code",
   "execution_count": null,
   "metadata": {},
   "outputs": [],
   "source": []
  }
 ],
 "metadata": {
  "kernelspec": {
   "display_name": "Python 3",
   "language": "python",
   "name": "python3"
  },
  "language_info": {
   "codemirror_mode": {
    "name": "ipython",
    "version": 3
   },
   "file_extension": ".py",
   "mimetype": "text/x-python",
   "name": "python",
   "nbconvert_exporter": "python",
   "pygments_lexer": "ipython3",
   "version": "3.5.3"
  }
 },
 "nbformat": 4,
 "nbformat_minor": 2
}
