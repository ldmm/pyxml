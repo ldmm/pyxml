{
 "cells": [
  {
   "cell_type": "code",
   "execution_count": 2,
   "metadata": {},
   "outputs": [],
   "source": [
    "#create a concordance for the characters in othello.xml\n",
    "#use the lines in the lb element\n",
    "\n",
    "from bs4 import BeautifulSoup\n",
    "from lxml import etree\n",
    "import lxml\n",
    "\n",
    "f = open('class_materials/dap/othello.xml','r')\n",
    "content = f.read()\n",
    "f.close()\n",
    "\n",
    "soup = BeautifulSoup(content, 'lxml')\n",
    "\n",
    "\n",
    "allCharactersWords = {}\n",
    "for speaker in soup.find_all('sp'):\n",
    "    if speaker['who'] not in allCharactersWords.keys():\n",
    "        allCharactersWords[ speaker['who'] ] = {}\n",
    "        \n",
    "    for c in speaker.children:\n",
    "        if c.name == 'lb':\n",
    "            texto = c.get_text().split()\n",
    "            for t in texto:\n",
    "                \n",
    "                if t not in allCharactersWords[ speaker['who'] ].keys():\n",
    "                    allCharactersWords[ speaker['who'] ][t] = []\n",
    "                if c['n'] not in allCharactersWords[ speaker['who'] ][t]:\n",
    "                    allCharactersWords[ speaker['who'] ][t] += [ c['n'] ]\n",
    "\n",
    "\n",
    "rootElement = etree.Element(\"concordance\")\n",
    "\n",
    "for k in allCharactersWords.keys():\n",
    "    \n",
    "    characterElement = etree.SubElement(rootElement, \"character\")\n",
    "    characterElement.set('name', k)\n",
    "    \n",
    "    for kk in allCharactersWords[k].keys():\n",
    "        \n",
    "        for vvv in allCharactersWords[k][kk]:\n",
    "        \n",
    "            termElement = etree.SubElement(characterElement, \"term\")\n",
    "            termElement.set('name', kk)\n",
    "            termElement.set('line', vvv)\n",
    "                    \n",
    "                    \n",
    "xmlString = etree.tostring(rootElement, pretty_print=True, encoding='UTF-8')\n",
    "fh = open('output/day.3.3.xml','wb')\n",
    "fh.write(xmlString)\n",
    "fh.close()"
   ]
  },
  {
   "cell_type": "code",
   "execution_count": null,
   "metadata": {},
   "outputs": [],
   "source": []
  }
 ],
 "metadata": {
  "kernelspec": {
   "display_name": "Python 3",
   "language": "python",
   "name": "python3"
  },
  "language_info": {
   "codemirror_mode": {
    "name": "ipython",
    "version": 3
   },
   "file_extension": ".py",
   "mimetype": "text/x-python",
   "name": "python",
   "nbconvert_exporter": "python",
   "pygments_lexer": "ipython3",
   "version": "3.7.3"
  }
 },
 "nbformat": 4,
 "nbformat_minor": 2
}
