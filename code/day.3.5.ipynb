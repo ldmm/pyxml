{
 "cells": [
  {
   "cell_type": "code",
   "execution_count": 15,
   "metadata": {},
   "outputs": [
    {
     "name": "stdout",
     "output_type": "stream",
     "text": [
      "<class 'bytes'>\n"
     ]
    }
   ],
   "source": [
    "#find all the characters in class_materials/dap/othello.xml'.\n",
    "#put each character in a list. The list should not have duplicates\n",
    "\n",
    "from bs4 import BeautifulSoup\n",
    "import lxml\n",
    "\n",
    "f = open('class_materials/dap/othello.xml','r')\n",
    "content = f.read()\n",
    "f.close()\n",
    "\n",
    "soup = BeautifulSoup(content, 'lxml')\n",
    "\n",
    "for speaker in soup.find_all('sp'):\n",
    "    speaker.name = 'foo'\n",
    "    \n",
    "for speaker in soup.find_all('foo'):\n",
    "    if 'who' in speaker.attrs:\n",
    "        speaker['goo'] = speaker['who']\n",
    "        del speaker['who']\n",
    "        \n",
    "out = soup.prettify(\"utf-8\")\n",
    "print(type(out))\n",
    "\n",
    "\n",
    "f = open('output/3.5.xml', \"wb\")\n",
    "f.write(out)\n",
    "f.close()\n",
    "\n",
    "\n"
   ]
  },
  {
   "cell_type": "code",
   "execution_count": null,
   "metadata": {},
   "outputs": [],
   "source": []
  }
 ],
 "metadata": {
  "kernelspec": {
   "display_name": "Python 3",
   "language": "python",
   "name": "python3"
  },
  "language_info": {
   "codemirror_mode": {
    "name": "ipython",
    "version": 3
   },
   "file_extension": ".py",
   "mimetype": "text/x-python",
   "name": "python",
   "nbconvert_exporter": "python",
   "pygments_lexer": "ipython3",
   "version": "3.5.3"
  }
 },
 "nbformat": 4,
 "nbformat_minor": 2
}
