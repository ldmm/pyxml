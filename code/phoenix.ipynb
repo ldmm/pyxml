{
 "cells": [
  {
   "cell_type": "code",
   "execution_count": 13,
   "metadata": {},
   "outputs": [
    {
     "name": "stdout",
     "output_type": "stream",
     "text": [
      "b'<paradise>\\n  <line n=\"1\">this is a test, <hi>_whatever_</hi>this works <hi>_second_</hi>more text </line>\\n</paradise>\\n'\n"
     ]
    }
   ],
   "source": [
    "from lxml import etree\n",
    "import datetime\n",
    "from bs4 import BeautifulSoup\n",
    "import lxml\n",
    "\n",
    "rootElement = etree.Element(\"paradise\")\n",
    "\n",
    "lineElement = etree.SubElement(rootElement, 'line')\n",
    "lineElement.set('n', str(1))\n",
    "\n",
    "line = 'this is a test, _whatever_ this works _second_ more text'\n",
    "listOfWords= line.split()\n",
    "            \n",
    "lineElement.text = ''\n",
    "for w in listOfWords:\n",
    "    \n",
    "    if w[0] == \"_\" or w[-1]==\"_\":\n",
    "        hiElement = etree.SubElement(lineElement, 'hi')\n",
    "        hiElement.text = w\n",
    "        \n",
    "    else:\n",
    "        if len(lineElement):\n",
    "            if not hiElement.tail:\n",
    "                hiElement.tail = ''\n",
    "            hiElement.tail += w + ' '\n",
    "        else:\n",
    "            lineElement.text += w + ' '\n",
    "        \n",
    "        \n",
    "xmlString = etree.tostring(rootElement, pretty_print=True, encoding ='UTF-8')\n",
    "print(xmlString)\n",
    "        "
   ]
  },
  {
   "cell_type": "code",
   "execution_count": null,
   "metadata": {},
   "outputs": [],
   "source": []
  }
 ],
 "metadata": {
  "kernelspec": {
   "display_name": "Python 3",
   "language": "python",
   "name": "python3"
  },
  "language_info": {
   "codemirror_mode": {
    "name": "ipython",
    "version": 3
   },
   "file_extension": ".py",
   "mimetype": "text/x-python",
   "name": "python",
   "nbconvert_exporter": "python",
   "pygments_lexer": "ipython3",
   "version": "3.5.3"
  }
 },
 "nbformat": 4,
 "nbformat_minor": 2
}
