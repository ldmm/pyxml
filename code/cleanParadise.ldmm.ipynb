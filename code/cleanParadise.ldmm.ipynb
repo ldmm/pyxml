{
 "cells": [
  {
   "cell_type": "code",
   "execution_count": 2,
   "metadata": {},
   "outputs": [
    {
     "name": "stdout",
     "output_type": "stream",
     "text": [
      "done!\n"
     ]
    }
   ],
   "source": [
    "from lxml import etree\n",
    "from bs4 import BeautifulSoup\n",
    "import lxml\n",
    "\n",
    "lineNumber = 0\n",
    "stanzaNumber = 1\n",
    "characterList = [\"Father\", \"Jesus\", \"Gabriel\", \"Raphael\", \"Uriel\", \"Abdiel\", \n",
    "                 \"Michael\", \"Satan\", \"Beelzebub\", \"Belial\", \"Mammon\", \"Mulciber\", \n",
    "                 \"Moloch\", \"Sin\", \"Death\", \"Adam\", \"Eve\"]\n",
    "\n",
    "f = open('class_materials/paradise.lost.1.txt', 'r')\n",
    "allLines = [l.strip() for l in f.readlines()]            \n",
    "f.close()\n",
    "\n",
    "rootElement = etree.Element(\"TEI\")\n",
    "\n",
    "stanzaElement = etree.SubElement(rootElement, 'stanza')\n",
    "stanzaElement.set('type', 'stanza')\n",
    "stanzaElement.set('n', str(stanzaNumber))\n",
    "\n",
    "for l in allLines:\n",
    "    if len(l) > 10: \n",
    "        lineNumber += 1\n",
    "        lineElement = etree.SubElement(stanzaElement, 'line')\n",
    "        lineElement.set('n', str(lineNumber))\n",
    "        lineElement.text = ''\n",
    "\n",
    "        listOfWords = l.split()\n",
    "\n",
    "        for w in listOfWords:\n",
    "\n",
    "            if w[0] == \"_\" or w[-1]== \"_\":\n",
    "                hiElement = etree.SubElement(lineElement, 'hi')\n",
    "                hiElement.text = w.replace('_','')\n",
    "            elif w in characterList:\n",
    "                persElement = etree.SubElement(lineElement, 'persName')\n",
    "                persElement.text = w\n",
    "            else:\n",
    "                if len(lineElement):\n",
    "                    if not lineElement[-1].tail:\n",
    "                        lineElement[-1].tail = ' '\n",
    "                    lineElement[-1].tail += w + ' '\n",
    "                else:\n",
    "                    lineElement.text += w + ' '            \n",
    "    else:\n",
    "        stanzaNumber += 1\n",
    "        stanzaElement = etree.SubElement(rootElement, 'stanza')\n",
    "        stanzaElement.set('type', 'stanza')\n",
    "        stanzaElement.set('n', str(stanzaNumber))\n",
    "          \n",
    "xmlString = etree.tostring(rootElement, pretty_print=True, encoding ='UTF-8')\n",
    "fh = open('output/paradise.xml', 'wb')\n",
    "fh.write(xmlString)\n",
    "fh.close()\n",
    "\n",
    "print('done!')"
   ]
  },
  {
   "cell_type": "code",
   "execution_count": null,
   "metadata": {},
   "outputs": [],
   "source": []
  }
 ],
 "metadata": {
  "kernelspec": {
   "display_name": "Python 3",
   "language": "python",
   "name": "python3"
  },
  "language_info": {
   "codemirror_mode": {
    "name": "ipython",
    "version": 3
   },
   "file_extension": ".py",
   "mimetype": "text/x-python",
   "name": "python",
   "nbconvert_exporter": "python",
   "pygments_lexer": "ipython3",
   "version": "3.7.3"
  }
 },
 "nbformat": 4,
 "nbformat_minor": 2
}
