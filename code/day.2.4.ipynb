{
 "cells": [
  {
   "cell_type": "code",
   "execution_count": 8,
   "metadata": {},
   "outputs": [
    {
     "name": "stdout",
     "output_type": "stream",
     "text": [
      "['#(stage_directions)', '#Roderigo', '#Iago', '#Brabantio', '#Othello', '#Cassio', '#First_Officer', '#Duke_of_Venice', '#First_Senator', '#Second_Senator', '#Sailor', '#Messenger', '#Desdemona', '#Montano', '#First_Gentleman', '#Second_Gentleman', '#Third_Gentleman', '#Fourth_Gentleman', '#Emilia', '#Herald', '#All', '#Clown', '#First_Musician', '#Gentleman', '#Bianca', '#Lodovico', '#Gratiano']\n"
     ]
    }
   ],
   "source": [
    "#find all the characters in class_materials/dap/othello.xml'.\n",
    "#put each character in a list. The list should not have duplicates\n",
    "\n",
    "from bs4 import BeautifulSoup\n",
    "import lxml\n",
    "\n",
    "f = open('class_materials/dap/othello.xml','r')\n",
    "content = f.read()\n",
    "f.close()\n",
    "\n",
    "soup = BeautifulSoup(content, 'lxml')\n",
    "\n",
    "allCharacters = []\n",
    "for speaker in soup.find_all('sp'):\n",
    "    if speaker['who'] not in allCharacters:\n",
    "        allCharacters += [ speaker['who'] ]\n",
    "\n",
    "print(allCharacters)"
   ]
  },
  {
   "cell_type": "code",
   "execution_count": 14,
   "metadata": {},
   "outputs": [
    {
     "name": "stdout",
     "output_type": "stream",
     "text": [
      "#(stage_directions) ['1-1', '1-2', '1-3', '2-1', '2-2', '2-3', '3-1', '3-2', '3-3', '3-4', '4-1', '4-2', '4-3', '5-1', '5-2']\n",
      "#Clown ['3-1', '3-4']\n",
      "#Third_Gentleman ['2-1']\n",
      "#First_Senator ['1-3']\n",
      "#Iago ['1-1', '1-2', '1-3', '2-1', '2-3', '3-1', '3-2', '3-3', '3-4', '4-1', '4-2', '5-1', '5-2']\n",
      "#Lodovico ['4-1', '4-3', '5-1', '5-2']\n",
      "#Messenger ['1-3']\n",
      "#Bianca ['3-4', '4-1', '5-1']\n",
      "#Second_Senator ['1-3']\n",
      "#Gratiano ['5-1', '5-2']\n",
      "#Second_Gentleman ['2-1']\n",
      "#Montano ['2-1', '2-3', '5-2']\n",
      "#Brabantio ['1-1', '1-2', '1-3']\n",
      "#Duke_of_Venice ['1-3']\n",
      "#Fourth_Gentleman ['2-1']\n",
      "#First_Musician ['3-1']\n",
      "#First_Officer ['1-2', '1-3']\n",
      "#Gentleman ['3-2']\n",
      "#Roderigo ['1-1', '1-2', '1-3', '2-1', '2-3', '4-2', '5-1']\n",
      "#Othello ['1-2', '1-3', '2-1', '2-3', '3-2', '3-3', '3-4', '4-1', '4-2', '4-3', '5-1', '5-2']\n",
      "#Emilia ['2-1', '3-1', '3-3', '3-4', '4-2', '4-3', '5-1', '5-2']\n",
      "#Cassio ['1-2', '2-1', '2-3', '3-1', '3-3', '3-4', '4-1', '5-1', '5-2']\n",
      "#Sailor ['1-3']\n",
      "#First_Gentleman ['2-1']\n",
      "#Herald ['2-2']\n",
      "#Desdemona ['1-3', '2-1', '2-3', '3-3', '3-4', '4-1', '4-2', '4-3', '5-2']\n",
      "#All ['2-3', '5-2']\n"
     ]
    }
   ],
   "source": [
    "#find all the characters in class_materials/dap/othello.xml'.\n",
    "#create a dictionary and add each character as a key\n",
    "#attach a list to each dictionary key.\n",
    "#add acts and scenes as an item to this list\n",
    "#this list should not contain duplicates\n",
    "\n",
    "allCharactersDict = {}\n",
    "for speaker in soup.find_all('sp'):\n",
    "    if speaker['who'] not in allCharactersDict.keys():\n",
    "        allCharactersDict[ speaker['who'] ] = []\n",
    "        \n",
    "    temp = speaker.parent.parent['n'] + '-' + speaker.parent['n']\n",
    "\n",
    "    if temp not in allCharactersDict[ speaker['who'] ]:\n",
    "        allCharactersDict[ speaker['who'] ] += [temp]\n",
    "\n",
    "for k,v in allCharactersDict.items():\n",
    "    print(k,v)"
   ]
  },
  {
   "cell_type": "code",
   "execution_count": 33,
   "metadata": {},
   "outputs": [
    {
     "name": "stdout",
     "output_type": "stream",
     "text": [
      "#(stage_directions) []\n",
      "#Clown ['wind-instruments?', 'wind-instrument']\n",
      "#Third_Gentleman []\n",
      "#First_Senator [\"disproportion'd;\"]\n",
      "#Iago ['arithmetician,', 'counter-caster,', 'sequestration:--put', 'guard:--first,', 'this--Desdemona', 'Hollander--Drink,', 'lieutenant,--alas,', 'ho!--Lieutenant,--sir,--Montano,--sir;', \"masters!--Here's\", 'bell?--Diablo,', 'Lieutenant,--sir--Montano,--gentlemen,--', 'contemplation,', 'witchcraft--but', 'circumstances,', 'handkerchief--', 'handkerchief,--']\n",
      "#Lodovico []\n",
      "#Messenger []\n",
      "#Bianca ['circumstanced.']\n",
      "#Second_Senator ['difference--yet']\n",
      "#Gratiano []\n",
      "#Second_Gentleman []\n",
      "#Montano []\n",
      "#Brabantio ['preposterously', 'state-affairs:']\n",
      "#Duke_of_Venice ['post-post-haste']\n",
      "#Fourth_Gentleman []\n",
      "#First_Musician []\n",
      "#First_Officer []\n",
      "#Gentleman []\n",
      "#Roderigo []\n",
      "#Othello ['circumscription', 'night-brawler?', 'fortification,', 'spirit-stirring', '--Handkerchief--confessions--handkerchief!--To', 'labour;--first,', 'possible?--Confess--handkerchief!--O', 'Cyprus.--Goats', 'O,--Desdemona,--', 'insupportable!', 'thunder?--Precious']\n",
      "#Emilia ['state-matters,']\n",
      "#Cassio ['haste-post-haste', 'fellowship--But,', 'notwithstanding,', 'entertainment.', 'affairs.--Forgive', 'sins!--Gentlemen,']\n",
      "#Sailor []\n",
      "#First_Gentleman []\n",
      "#Herald []\n",
      "#Desdemona ['reconciliation', 'dispraisingly,', 'divorcement--love']\n",
      "#All []\n"
     ]
    }
   ],
   "source": [
    "#find all the characters in class_materials/dap/othello.xml'.\n",
    "#create a dictionary and add each character as a key\n",
    "#attach a list to each dictionary key.\n",
    "#use this list to add the words for each line that are longer than 13 characters\n",
    "#this list should not contain duplicates\n",
    "\n",
    "minLength = 13\n",
    "\n",
    "allCharactersWords = {}\n",
    "for speaker in soup.find_all('sp'):\n",
    "    if speaker['who'] not in allCharactersWords.keys():\n",
    "        allCharactersWords[ speaker['who'] ] = []\n",
    "        \n",
    "    for c in speaker.children:\n",
    "        if c.name == 'lb':\n",
    "            texto = c.get_text().split()\n",
    "            for t in texto:\n",
    "                if len(t) > minLength and t not in allCharactersWords[ speaker['who'] ]:\n",
    "                    allCharactersWords[ speaker['who'] ] += [t]\n",
    "    \n",
    "for k,v in allCharactersWords.items():\n",
    "    print(k,v)\n",
    "                    "
   ]
  },
  {
   "cell_type": "code",
   "execution_count": 42,
   "metadata": {},
   "outputs": [
    {
     "name": "stdout",
     "output_type": "stream",
     "text": [
      "#(stage_directions) []\n",
      "#Clown []\n",
      "#Third_Gentleman []\n",
      "#First_Senator []\n",
      "#Iago ['3-3']\n",
      "#Lodovico []\n",
      "#Messenger []\n",
      "#Bianca ['4-1']\n",
      "#Second_Senator []\n",
      "#Gratiano []\n",
      "#Second_Gentleman []\n",
      "#Montano []\n",
      "#Brabantio []\n",
      "#Duke_of_Venice []\n",
      "#Fourth_Gentleman []\n",
      "#First_Musician []\n",
      "#First_Officer []\n",
      "#Gentleman []\n",
      "#Roderigo []\n",
      "#Othello ['3-3', '3-4', '5-2']\n",
      "#Emilia ['5-2']\n",
      "#Cassio []\n",
      "#Sailor []\n",
      "#First_Gentleman []\n",
      "#Herald []\n",
      "#Desdemona []\n",
      "#All []\n"
     ]
    }
   ],
   "source": [
    "#find all the characters in class_materials/dap/othello.xml'.\n",
    "#create a dictionary and add each character as a key\n",
    "#attach a list to each dictionary key.\n",
    "#use this list to add the act and scene for each character where a match of a given word appears\n",
    "#this list should not contain duplicates\n",
    "\n",
    "match = 'handkerchief' \n",
    "\n",
    "allCharactersWords = {}\n",
    "for speaker in soup.find_all('sp'):\n",
    "    if speaker['who'] not in allCharactersWords.keys():\n",
    "        allCharactersWords[ speaker['who'] ] = []\n",
    "        \n",
    "    temp = speaker.parent.parent['n'] + '-' + speaker.parent['n']\n",
    "    \n",
    "    for c in speaker.children:\n",
    "        if c.name:\n",
    "            texto = c.text.lower().split()\n",
    "            for t in texto:\n",
    "                \n",
    "                if t == match and temp not in allCharactersWords[ speaker['who'] ]:\n",
    "                    allCharactersWords[ speaker['who'] ] += [temp]\n",
    "    \n",
    "for k,v in allCharactersWords.items():\n",
    "    print(k,v)"
   ]
  },
  {
   "cell_type": "code",
   "execution_count": null,
   "metadata": {},
   "outputs": [],
   "source": []
  }
 ],
 "metadata": {
  "kernelspec": {
   "display_name": "Python 3",
   "language": "python",
   "name": "python3"
  },
  "language_info": {
   "codemirror_mode": {
    "name": "ipython",
    "version": 3
   },
   "file_extension": ".py",
   "mimetype": "text/x-python",
   "name": "python",
   "nbconvert_exporter": "python",
   "pygments_lexer": "ipython3",
   "version": "3.7.3"
  }
 },
 "nbformat": 4,
 "nbformat_minor": 2
}
