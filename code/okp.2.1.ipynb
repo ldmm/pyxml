{
 "cells": [
  {
   "cell_type": "code",
   "execution_count": 12,
   "metadata": {},
   "outputs": [
    {
     "name": "stdout",
     "output_type": "stream",
     "text": [
      "done\n"
     ]
    }
   ],
   "source": [
    "from bs4 import BeautifulSoup\n",
    "from lxml import etree\n",
    "import lxml\n",
    "\n",
    "f = open('class_materials/paradise.lost.1.txt','r')\n",
    "lines = f.readlines()\n",
    "f.close()\n",
    "\n",
    "rootElement = etree.Element(\"pl\")\n",
    "\n",
    "for n, l in enumerate(lines):\n",
    "    lineElement = etree.SubElement(rootElement, \"line\")\n",
    "    lineElement.set('n', str(n))\n",
    "    lineElement.text = l.strip()\n",
    "\n",
    "xmlString = etree.tostring(rootElement, pretty_print=True, encoding='UTF-8')\n",
    "\n",
    "fh = open('output/okp.2.1.xml','wb')\n",
    "fh.write(xmlString)\n",
    "fh.close()\n",
    "\n",
    "print('done')\n",
    "\n"
   ]
  },
  {
   "cell_type": "code",
   "execution_count": null,
   "metadata": {},
   "outputs": [],
   "source": []
  }
 ],
 "metadata": {
  "kernelspec": {
   "display_name": "Python 3",
   "language": "python",
   "name": "python3"
  },
  "language_info": {
   "codemirror_mode": {
    "name": "ipython",
    "version": 3
   },
   "file_extension": ".py",
   "mimetype": "text/x-python",
   "name": "python",
   "nbconvert_exporter": "python",
   "pygments_lexer": "ipython3",
   "version": "3.5.3"
  }
 },
 "nbformat": 4,
 "nbformat_minor": 2
}
