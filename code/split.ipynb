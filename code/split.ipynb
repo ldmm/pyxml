{
 "cells": [
  {
   "cell_type": "code",
   "execution_count": 20,
   "metadata": {},
   "outputs": [
    {
     "name": "stdout",
     "output_type": "stream",
     "text": [
      "['the', 'brown', 'lazy', 'dog', 'jumped', 'over', 'the', 'fence.', 'The', 'dog', 'is', 'brown']\n",
      "['the brown lazy dog jumped over the fence. The dog is brown']\n",
      "['the', 'brown', 'lazy', 'dog', 'jumped', 'over', 'the', 'fence', 'The', 'dog', 'is', 'brown']\n",
      "brown 5\n",
      "jumped 6\n",
      "fence 5\n",
      "brown 5\n"
     ]
    }
   ],
   "source": [
    "import re\n",
    "\n",
    "text = 'the brown lazy dog jumped over the fence. The dog is brown'\n",
    "splitText = text.split()\n",
    "print(splitText)\n",
    "\n",
    "splitText2 = text.split(',')\n",
    "print(splitText2)\n",
    "\n",
    "\n",
    "splitText3 =  re.findall(r\"[\\w']+\", text)\n",
    "print(splitText3)\n",
    "\n",
    "for st in splitText3:\n",
    "    if len(st) > 4:\n",
    "        print(st, len(st))"
   ]
  },
  {
   "cell_type": "code",
   "execution_count": null,
   "metadata": {},
   "outputs": [],
   "source": []
  },
  {
   "cell_type": "code",
   "execution_count": null,
   "metadata": {},
   "outputs": [],
   "source": []
  }
 ],
 "metadata": {
  "kernelspec": {
   "display_name": "Python 3",
   "language": "python",
   "name": "python3"
  },
  "language_info": {
   "codemirror_mode": {
    "name": "ipython",
    "version": 3
   },
   "file_extension": ".py",
   "mimetype": "text/x-python",
   "name": "python",
   "nbconvert_exporter": "python",
   "pygments_lexer": "ipython3",
   "version": "3.5.3"
  }
 },
 "nbformat": 4,
 "nbformat_minor": 2
}
