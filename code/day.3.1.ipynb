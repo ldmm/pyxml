{
 "cells": [
  {
   "cell_type": "code",
   "execution_count": 2,
   "metadata": {},
   "outputs": [],
   "source": [
    "from lxml import etree\n",
    "import datetime\n",
    "\n",
    "#today = str(datetime.date.today())\n",
    "today = '2019-06-12'\n",
    "\n",
    "rootElement = etree.Element(\"cities\")\n",
    "rootElement.set(\"date\", today)\n",
    "\n",
    "\n",
    "countryElement = etree.SubElement(rootElement, \"country\")\n",
    "countryElement.set(\"id\", 'can')\n",
    "countryElement.set(\"name\", 'canada')\n",
    "\n",
    "cityElement = etree.SubElement(countryElement, \"city\")\n",
    "cityElement.set(\"id\", 'yyj')\n",
    "cityElement.set(\"name\", 'Victoria')\n",
    "\n",
    "cityElement = etree.SubElement(countryElement, \"city\")\n",
    "cityElement.set(\"id\", 'yyz')\n",
    "cityElement.set(\"name\", 'Toronto')\n",
    "\n",
    "countryElement = etree.SubElement(rootElement, \"country\")\n",
    "countryElement.set(\"id\", 'ECU')\n",
    "countryElement.set(\"name\", 'Ecuador')\n",
    "\n",
    "cityElement = etree.SubElement(countryElement, \"city\")\n",
    "cityElement.set(\"id\", 'GYE')\n",
    "cityElement.set(\"name\", 'Guayaquil')\n",
    "\n",
    "\"\"\"\n",
    "xmlString = etree.tostring(rootElement, pretty_print=False, encoding='UTF-8')\n",
    "print(xmlString)\n",
    "\"\"\"\n",
    "\n",
    "xmlString = etree.tostring(rootElement, pretty_print=True, encoding='UTF-8')\n",
    "fh = open('output/day.3.1.xml','wb')\n",
    "fh.write(xmlString)\n",
    "fh.close()\n",
    "\n"
   ]
  },
  {
   "cell_type": "code",
   "execution_count": null,
   "metadata": {},
   "outputs": [],
   "source": []
  },
  {
   "cell_type": "code",
   "execution_count": null,
   "metadata": {},
   "outputs": [],
   "source": []
  }
 ],
 "metadata": {
  "kernelspec": {
   "display_name": "Python 3",
   "language": "python",
   "name": "python3"
  },
  "language_info": {
   "codemirror_mode": {
    "name": "ipython",
    "version": 3
   },
   "file_extension": ".py",
   "mimetype": "text/x-python",
   "name": "python",
   "nbconvert_exporter": "python",
   "pygments_lexer": "ipython3",
   "version": "3.5.3"
  }
 },
 "nbformat": 4,
 "nbformat_minor": 2
}
