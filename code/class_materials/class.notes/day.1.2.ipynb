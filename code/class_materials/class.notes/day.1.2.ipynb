{
 "cells": [
  {
   "cell_type": "code",
   "execution_count": 9,
   "metadata": {},
   "outputs": [
    {
     "name": "stdout",
     "output_type": "stream",
     "text": [
      "begin\n",
      "a is positive\n",
      "end\n"
     ]
    }
   ],
   "source": [
    "print('begin')\n",
    "a = 34\n",
    "if a > 0:\n",
    "    print('a is positive')\n",
    "print('end')"
   ]
  },
  {
   "cell_type": "code",
   "execution_count": 10,
   "metadata": {},
   "outputs": [
    {
     "name": "stdout",
     "output_type": "stream",
     "text": [
      "begin\n",
      "a non positive\n",
      "end\n"
     ]
    }
   ],
   "source": [
    "print('begin')\n",
    "a = -900\n",
    "if a > 0:\n",
    "    print('a is positive')\n",
    "else:\n",
    "    print('a non positive')\n",
    "print('end')"
   ]
  },
  {
   "cell_type": "code",
   "execution_count": 4,
   "metadata": {},
   "outputs": [
    {
     "name": "stdout",
     "output_type": "stream",
     "text": [
      "begin\n",
      "a is positive\n",
      "end\n"
     ]
    }
   ],
   "source": [
    "print('begin')\n",
    "a = 34\n",
    "if a == 0:\n",
    "    print('a is zero')\n",
    "elif a > 0:\n",
    "    print('a is positive')\n",
    "else:\n",
    "    print('a is negative')\n",
    "print('end')"
   ]
  },
  {
   "cell_type": "code",
   "execution_count": 14,
   "metadata": {},
   "outputs": [
    {
     "name": "stdout",
     "output_type": "stream",
     "text": [
      "Enter your score : 95\n",
      "letter grade:  C\n"
     ]
    }
   ],
   "source": [
    "score = int( input ('Enter your score : ' ))\n",
    "\n",
    "if score >= 70:\n",
    "    letter = 'C'\n",
    "elif score >= 80:\n",
    "    letter = 'B'\n",
    "elif score >= 90:\n",
    "    letter = 'A'\n",
    "elif score >= 60:\n",
    "    letter = 'D'\n",
    "else :\n",
    "    letter = 'F'\n",
    "    \n",
    "print('letter grade: ', letter)   "
   ]
  },
  {
   "cell_type": "code",
   "execution_count": 18,
   "metadata": {},
   "outputs": [
    {
     "name": "stdout",
     "output_type": "stream",
     "text": [
      "Please enter a number : 0\n",
      "zero!\n"
     ]
    }
   ],
   "source": [
    "user_input = input ('Please enter a number : ')\n",
    "number = int ( user_input )\n",
    "if number == 0:\n",
    "    print('zero!')\n",
    "elif ( number % 2 == 0):\n",
    "    print ('You entered an even number.')\n",
    "else :\n",
    "    print ('You entered an odd number.')"
   ]
  },
  {
   "cell_type": "code",
   "execution_count": null,
   "metadata": {},
   "outputs": [],
   "source": []
  }
 ],
 "metadata": {
  "kernelspec": {
   "display_name": "Python 3",
   "language": "python",
   "name": "python3"
  },
  "language_info": {
   "codemirror_mode": {
    "name": "ipython",
    "version": 3
   },
   "file_extension": ".py",
   "mimetype": "text/x-python",
   "name": "python",
   "nbconvert_exporter": "python",
   "pygments_lexer": "ipython3",
   "version": "3.5.3"
  }
 },
 "nbformat": 4,
 "nbformat_minor": 2
}
