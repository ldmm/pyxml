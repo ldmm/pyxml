{
 "cells": [
  {
   "cell_type": "code",
   "execution_count": 2,
   "metadata": {},
   "outputs": [
    {
     "name": "stdout",
     "output_type": "stream",
     "text": [
      "status: 200\n",
      "<img alt=\"AtariAge Logo\" border=\"0\" height=\"90\" src=\"/images/general/mastlogo.gif\" title=\"AtariAge - Have You Played Atari Today?\" width=\"266\"/>\n",
      "<img alt=\"\" height=\"90\" id=\"blank\" name=\"blank\" src=\"/images/general/icon_blank.gif\" width=\"175\"/>\n",
      "<img alt=\"\" height=\"20\" src=\"/images/general/mastcorner.gif\" style=\"vertical-align: middle\" width=\"20\"/>\n",
      "<img alt=\"\" height=\"5\" src=\"/images/general/dotclear.gif\" width=\"1\"/>\n",
      "<img alt=\"\" height=\"5\" src=\"/images/general/dotclear.gif\" width=\"1\"/>\n",
      "<img alt=\"\" height=\"5\" src=\"/images/general/dotclear.gif\" width=\"1\"/>\n",
      "<img alt=\"\" height=\"5\" src=\"/images/general/dotclear.gif\" width=\"1\"/>\n",
      "<img alt=\"\" height=\"5\" src=\"/images/general/dotclear.gif\" width=\"1\"/>\n",
      "<img alt=\"\" height=\"5\" src=\"/images/general/dotclear.gif\" width=\"1\"/>\n",
      "<img alt=\"\" height=\"5\" src=\"/images/general/dotclear.gif\" width=\"1\"/>\n",
      "<img alt=\"\" height=\"5\" src=\"/images/general/dotclear.gif\" width=\"1\"/>\n",
      "<img alt=\"\" height=\"5\" src=\"/images/general/dotclear.gif\" width=\"1\"/>\n",
      "<img alt=\"\" height=\"5\" src=\"/images/general/dotclear.gif\" width=\"1\"/>\n",
      "<img alt=\"\" height=\"5\" src=\"/images/general/dotclear.gif\" width=\"1\"/>\n",
      "<img alt=\"\" height=\"5\" src=\"/images/general/dotclear.gif\" width=\"1\"/>\n",
      "<img alt=\"Aardvark\" hspace=\"5\" src=\"store/images/news/2600_Aardvark_Render_Box_Front_News.jpg\" vspace=\"5\"/>\n",
      "<img alt=\"Amoeba Jump\" hspace=\"5\" src=\"store/images/news/2600_AmoebaJump_Render_Box_Front_News.jpg\" vspace=\"5\"/>\n",
      "<img alt=\"A Roach in Space\" hspace=\"5\" src=\"store/images/news/2600_ARoachInSpace_Render_Box_Front_News.jpg\" vspace=\"5\"/>\n",
      "<img alt=\"Dragon's Descent\" hspace=\"5\" src=\"store/images/news/2600_DragonsDescent_Render_Box_Front_News.jpg\" vspace=\"5\"/>\n",
      "<img alt=\"Galagon\" hspace=\"5\" src=\"store/images/news/2600_Galagon_Render_Box_Front_News.jpg\" vspace=\"5\"/>\n",
      "<img alt=\"Gyvolver\" hspace=\"5\" src=\"store/images/news/2600_Gyvolver_Render_Box_Front_News.jpg\" vspace=\"5\"/>\n",
      "<img alt=\"Tyre Trax\" hspace=\"5\" src=\"store/images/news/2600_TyreTrax_Render_Box_Front_News.jpg\" vspace=\"5\"/>\n",
      "<img alt=\"Wizard of Wor Arcade\" hspace=\"5\" src=\"store/images/news/2600_WizardOfWor_Render_Box_Front_News.jpg\" vspace=\"5\"/>\n",
      "<img alt=\"Scramble\" hspace=\"5\" src=\"store/images/news/5200_Scramble_Render_Box_Front_News.jpg\" vspace=\"5\"/>\n",
      "<img alt=\"Baby Pac-Man\" hspace=\"5\" src=\"store/images/news/7800_BabyPacMan_Render_Box_Front_News.jpg\" vspace=\"5\"/>\n",
      "<img alt=\"Evil Magician Returns II\" hspace=\"5\" src=\"store/images/news/2600_EvilMagicianReturns2_CartManual_News.jpg\" vspace=\"5\"/>\n",
      "<img alt=\"Atari Lynx Programming Contest\" src=\"/images/news/AtariGamer_LynxProgrammingContest_header.jpg\"/>\n",
      "<img alt=\"AtariAge Summer Sale\" src=\"/store/images/news/AtariAge_Summer_2019_Sale_650.jpg\"/>\n",
      "<img alt=\"AtariProtos.com\" hspace=\"10\" src=\"/images/news/atariprotos_logo.jpg\" title=\"AtariProtos.com\"/>\n",
      "<img alt=\"Portland Retro Gaming Expo\" hspace=\"10\" src=\"/images/news/prge_logo_2016.png\" title=\"Portland Retro Gaming Expo\"/>\n",
      "<img alt=\"AtariAge Forum Upgrade\" src=\"https://www.atariage.com/images/news/2019_forum_update.jpg\" title=\"AtariAge Forum Upgrade\"/>\n",
      "<img alt=\"ZeroPage Homebrew Stella-thon\" src=\"https://www.atariage.com/images/news/ZeropageHomebrewStellathon.jpg\" title=\"ZeroPage Homebrew Stella-thon\"/>\n",
      "<img alt=\"Speedball 2 and Fantasy World Dizzy\" src=\"/images/news/Jaguar_Speedball2_FantasyWorldDizzy_boxes_front.jpg\" title=\"Speedball 2 and Fantasy World Dizzy\"/>\n",
      "<img alt=\"RealSports Curling - Atari 5200\" border=\"0\" src=\"/includes/resizeImage.php?path=/home/atariage/public_html/store/images/products/detail_1176_5200_RealSportsCurling_Cart_detail.jpg&amp;max_width=150\" title=\"RealSports Curling - Atari 5200\" width=\"150\"/>\n",
      "<img alt=\"Facebook\" src=\"/images/general/icon_facebook.png\" title=\"Facebook\"/>\n",
      "<img alt=\"Facebook\" src=\"/images/general/icon_facebook.png\" title=\"Facebook\"/>\n",
      "<img alt=\"Twitter\" src=\"/images/general/icon_twitter.png\" title=\"Twitter\"/>\n",
      "<img alt=\"YouTube\" src=\"/images/general/icon_youtube.png\" title=\"YouTube\"/>\n"
     ]
    }
   ],
   "source": [
    "from bs4 import BeautifulSoup\n",
    "from lxml import etree\n",
    "import requests\n",
    "import datetime\n",
    "import os\n",
    "\n",
    "url = 'https://www.atariage.com'\n",
    "headers = {'User-Agent': 'Mozilla/5.0 (Windows NT 10.0; Win64; x64) AppleWebKit/537.36 (KHTML, like Gecko) Chrome/60.0.3112.113 Safari/537.36','From': 'youremail@domain.com'}\n",
    "\n",
    "try:\n",
    "    r = requests.get(url, headers=headers)\n",
    "except requests.exceptions.RequestException as e:\n",
    "    print(e)\n",
    "    \n",
    "print('status:', r.status_code)\n",
    "if r.status_code == 200:\n",
    "    soup = BeautifulSoup(r.content, 'lxml')\n",
    "    for item in soup.find_all('img'):\n",
    "        print(item)"
   ]
  },
  {
   "cell_type": "code",
   "execution_count": null,
   "metadata": {},
   "outputs": [],
   "source": []
  },
  {
   "cell_type": "code",
   "execution_count": null,
   "metadata": {},
   "outputs": [],
   "source": []
  },
  {
   "cell_type": "code",
   "execution_count": null,
   "metadata": {},
   "outputs": [],
   "source": []
  }
 ],
 "metadata": {
  "kernelspec": {
   "display_name": "Python 3",
   "language": "python",
   "name": "python3"
  },
  "language_info": {
   "codemirror_mode": {
    "name": "ipython",
    "version": 3
   },
   "file_extension": ".py",
   "mimetype": "text/x-python",
   "name": "python",
   "nbconvert_exporter": "python",
   "pygments_lexer": "ipython3",
   "version": "3.7.3"
  }
 },
 "nbformat": 4,
 "nbformat_minor": 2
}
