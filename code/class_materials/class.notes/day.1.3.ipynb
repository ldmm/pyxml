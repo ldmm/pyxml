{
 "cells": [
  {
   "cell_type": "code",
   "execution_count": null,
   "metadata": {},
   "outputs": [],
   "source": [
    "#lists"
   ]
  },
  {
   "cell_type": "code",
   "execution_count": 10,
   "metadata": {},
   "outputs": [
    {
     "name": "stdout",
     "output_type": "stream",
     "text": [
      "dddhhhsssiii222000111999\n"
     ]
    }
   ],
   "source": [
    "a_string = 'dhsi2019'\n",
    "temp = ''\n",
    "for l in a_string:\n",
    "    temp = temp + l*3\n",
    "\n",
    "print(temp)"
   ]
  },
  {
   "cell_type": "code",
   "execution_count": 16,
   "metadata": {},
   "outputs": [
    {
     "name": "stdout",
     "output_type": "stream",
     "text": [
      "Luis Smith\n",
      "Jason Smith\n",
      "Meredith Smith\n",
      "Laura Smith\n",
      "Liza Smith\n",
      "Zhaosen Smith\n"
     ]
    }
   ],
   "source": [
    "name_list = [ 'Luis' , 'Jason' , 'Meredith', 'Laura', 'Liza', 'Zhaosen']\n",
    "for xxxx in name_list:\n",
    "    print ( xxxx , 'Smith')\n",
    "    \n",
    "if 'Joe' in name_list:\n",
    "    print('the name exists!')"
   ]
  },
  {
   "cell_type": "code",
   "execution_count": 22,
   "metadata": {},
   "outputs": [
    {
     "name": "stdout",
     "output_type": "stream",
     "text": [
      "car <class 'str'>\n"
     ]
    }
   ],
   "source": [
    "testList = [1, 2, 3, 'car', True, 8.5]\n",
    "for t in testList:\n",
    "    if 'str' in str(type(t)):\n",
    "        print(t, type(t))"
   ]
  },
  {
   "cell_type": "code",
   "execution_count": 30,
   "metadata": {},
   "outputs": [
    {
     "name": "stdout",
     "output_type": "stream",
     "text": [
      "['Monday', 'Tuesday', 'Wednesday', 'Thursday', 'Friday']\n",
      "5\n",
      "['Monday', 'Wednesday']\n"
     ]
    }
   ],
   "source": [
    "newList = []\n",
    "\n",
    "newList.append('Monday')\n",
    "newList.append('Tuesday')\n",
    "newList.append('Wednesday')\n",
    "\n",
    "newList += ['Thursday']\n",
    "newList += ['Friday']\n",
    "\n",
    "print(newList)\n",
    "\n",
    "print(len(newList))\n",
    "print(newList[0:4:2])"
   ]
  },
  {
   "cell_type": "code",
   "execution_count": null,
   "metadata": {},
   "outputs": [],
   "source": []
  }
 ],
 "metadata": {
  "kernelspec": {
   "display_name": "Python 3",
   "language": "python",
   "name": "python3"
  },
  "language_info": {
   "codemirror_mode": {
    "name": "ipython",
    "version": 3
   },
   "file_extension": ".py",
   "mimetype": "text/x-python",
   "name": "python",
   "nbconvert_exporter": "python",
   "pygments_lexer": "ipython3",
   "version": "3.5.3"
  }
 },
 "nbformat": 4,
 "nbformat_minor": 2
}
