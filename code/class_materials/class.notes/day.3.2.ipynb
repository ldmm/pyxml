{
 "cells": [
  {
   "cell_type": "code",
   "execution_count": 2,
   "metadata": {},
   "outputs": [],
   "source": [
    "#find all the characters in class_materials/dap/othello.xml'.\n",
    "#create a dictionary and add each character as a key\n",
    "#attach a list to each dictionary key.\n",
    "#use this list to add the words for each line that are longer than 13 characters\n",
    "#this list should not contain duplicates\n",
    "#use this list to write an xml file\n",
    "\n",
    "from bs4 import BeautifulSoup\n",
    "from lxml import etree\n",
    "import lxml\n",
    "\n",
    "minLength = 13\n",
    "\n",
    "f = open('class_materials/dap/othello.xml','r')\n",
    "content = f.read()\n",
    "f.close()\n",
    "\n",
    "soup = BeautifulSoup(content, 'lxml')\n",
    "\n",
    "rootElement = etree.Element(\"words\")\n",
    "\n",
    "allCharactersWords = {}\n",
    "for speaker in soup.find_all('sp'):\n",
    "    if speaker['who'] not in allCharactersWords.keys():\n",
    "        allCharactersWords[ speaker['who'] ] = []\n",
    "        \n",
    "    for c in speaker.children:\n",
    "        if c.name == 'lb':\n",
    "            texto = c.get_text().split()\n",
    "            for t in texto:\n",
    "                if len(t) > minLength and t not in allCharactersWords[ speaker['who'] ]:\n",
    "                    allCharactersWords[ speaker['who'] ] += [t]\n",
    "                    \n",
    "\n",
    "for k,v in allCharactersWords.items():\n",
    "    \n",
    "    characterElement = etree.SubElement(rootElement, \"character\")\n",
    "    characterElement.set('name', k)\n",
    "    \n",
    "    for vv in v:\n",
    "        termElement = etree.SubElement(characterElement, \"term\")\n",
    "        termElement.set('token', vv)\n",
    "                    \n",
    "                    \n",
    "xmlString = etree.tostring(rootElement, pretty_print=True, encoding='UTF-8')\n",
    "fh = open('output/day.3.2.xml','wb')\n",
    "fh.write(xmlString)\n",
    "fh.close()"
   ]
  },
  {
   "cell_type": "code",
   "execution_count": null,
   "metadata": {},
   "outputs": [],
   "source": []
  }
 ],
 "metadata": {
  "kernelspec": {
   "display_name": "Python 3",
   "language": "python",
   "name": "python3"
  },
  "language_info": {
   "codemirror_mode": {
    "name": "ipython",
    "version": 3
   },
   "file_extension": ".py",
   "mimetype": "text/x-python",
   "name": "python",
   "nbconvert_exporter": "python",
   "pygments_lexer": "ipython3",
   "version": "3.5.3"
  }
 },
 "nbformat": 4,
 "nbformat_minor": 2
}
