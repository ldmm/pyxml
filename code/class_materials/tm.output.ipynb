{
 "cells": [
  {
   "cell_type": "code",
   "execution_count": null,
   "metadata": {},
   "outputs": [],
   "source": [
    "f = open('input.txt','r') #write your input filemane here\n",
    "\n",
    "counter = 0\n",
    "allLines = []\n",
    "\n",
    "#reading\n",
    "for line in f:\n",
    "    if len(line.strip()):\n",
    "        counter += 1\n",
    "        print(str(counter) + '\\t'+ 'line' + str(counter) + '\\t' + line.strip())\n",
    "        allLines += [str(counter) + '\\t'+ 'line' + str(counter) + '\\t' + line.strip()]\n",
    "        \n",
    "f.close()\n",
    "\n",
    "#writing    \n",
    "f = open('output.txt', 'w') #write your output filename here\n",
    "for item in allLines:\n",
    "    f.write(\"%s\\n\" % item)\n",
    "f.close()"
   ]
  }
 ],
 "metadata": {
  "kernelspec": {
   "display_name": "Python 3",
   "language": "python",
   "name": "python3"
  },
  "language_info": {
   "codemirror_mode": {
    "name": "ipython",
    "version": 3
   },
   "file_extension": ".py",
   "mimetype": "text/x-python",
   "name": "python",
   "nbconvert_exporter": "python",
   "pygments_lexer": "ipython3",
   "version": "3.7.3"
  }
 },
 "nbformat": 4,
 "nbformat_minor": 2
}
