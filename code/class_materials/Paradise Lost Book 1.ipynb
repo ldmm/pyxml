{
 "cells": [
  {
   "cell_type": "code",
   "execution_count": 1,
   "metadata": {},
   "outputs": [],
   "source": [
    "from bs4 import BeautifulSoup\n",
    "import lxml\n",
    "from lxml import etree\n",
    "import re"
   ]
  },
  {
   "cell_type": "code",
   "execution_count": 2,
   "metadata": {},
   "outputs": [],
   "source": [
    "file = open('../class_materials/paradise.lost.1.txt', 'r')\n",
    "book1 = file.read()\n",
    "file.close()\n",
    "stanza_list = book1.split('\\n\\n')\n",
    "root_element = etree.Element('TEI')"
   ]
  },
  {
   "cell_type": "code",
   "execution_count": 3,
   "metadata": {},
   "outputs": [],
   "source": [
    "cleaned_book1 = []\n",
    "for stanza in stanza_list:\n",
    "    while '_' in stanza:\n",
    "        stanza = stanza.replace('_', '<hi>', 1)\n",
    "        stanza = stanza.replace('_', '</hi>', 1)\n",
    "    cleaned_book1.append(stanza)\n",
    "\n",
    "newbook = []\n",
    "for old_stanza in cleaned_book1:\n",
    "    new_stanza = old_stanza.split('\\n')\n",
    "    newbook.append(new_stanza)"
   ]
  },
  {
   "cell_type": "code",
   "execution_count": 4,
   "metadata": {},
   "outputs": [],
   "source": [
    "stanza_counter = 1\n",
    "line_counter = 1\n",
    "\n",
    "for stanza in newbook:\n",
    "    stanza_element = etree.SubElement(root_element, 'lg')\n",
    "    stanza_element.set('n', str(stanza_counter))\n",
    "    for line in stanza:\n",
    "        line_element = etree.SubElement(stanza_element, 'l')\n",
    "        line_element.set('n', str(line_counter))\n",
    "        line_element.text = line\n",
    "        line_counter += 1\n",
    "    stanza_counter += 1\n",
    "\n",
    "xml_string = etree.tostring(root_element, pretty_print=True, encoding='UTF-8')\n",
    "xml_string = xml_string.decode('UTF-8')\n",
    "xml_string = re.sub('&lt;', '<', xml_string)\n",
    "xml_string = re.sub('&gt;', '>', xml_string)\n",
    "xml_string = xml_string.encode('UTF-8')"
   ]
  },
  {
   "cell_type": "code",
   "execution_count": 5,
   "metadata": {},
   "outputs": [],
   "source": [
    "f = open('../output/paradise_lost_output.xml', 'wb')\n",
    "f.write(xml_string)\n",
    "f.close()"
   ]
  },
  {
   "cell_type": "code",
   "execution_count": null,
   "metadata": {},
   "outputs": [],
   "source": []
  },
  {
   "cell_type": "code",
   "execution_count": null,
   "metadata": {},
   "outputs": [],
   "source": []
  },
  {
   "cell_type": "code",
   "execution_count": null,
   "metadata": {},
   "outputs": [],
   "source": []
  },
  {
   "cell_type": "code",
   "execution_count": null,
   "metadata": {},
   "outputs": [],
   "source": []
  },
  {
   "cell_type": "code",
   "execution_count": null,
   "metadata": {},
   "outputs": [],
   "source": []
  },
  {
   "cell_type": "code",
   "execution_count": null,
   "metadata": {},
   "outputs": [],
   "source": []
  }
 ],
 "metadata": {
  "kernelspec": {
   "display_name": "Python 3",
   "language": "python",
   "name": "python3"
  },
  "language_info": {
   "codemirror_mode": {
    "name": "ipython",
    "version": 3
   },
   "file_extension": ".py",
   "mimetype": "text/x-python",
   "name": "python",
   "nbconvert_exporter": "python",
   "pygments_lexer": "ipython3",
   "version": "3.7.3"
  }
 },
 "nbformat": 4,
 "nbformat_minor": 2
}
