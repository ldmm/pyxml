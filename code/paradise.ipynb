{
 "cells": [
  {
   "cell_type": "code",
   "execution_count": 15,
   "metadata": {},
   "outputs": [
    {
     "name": "stdout",
     "output_type": "stream",
     "text": [
      "done!\n"
     ]
    }
   ],
   "source": [
    "from bs4 import BeautifulSoup\n",
    "from lxml import etree\n",
    "import lxml\n",
    "\n",
    "allLines = []\n",
    "rootElement = etree.Element(\"paradise\")\n",
    "\n",
    "f = open('class_materials/paradise.lost.1.txt', 'r')\n",
    "\n",
    "for l in f.readlines():\n",
    "    allLines += [l.strip()]\n",
    "\n",
    "f.close()\n",
    "\n",
    "lineNumber = 0\n",
    "for l in allLines:\n",
    "    if l:\n",
    "        lineNumber += 1\n",
    "        lineElement = etree.SubElement(rootElement, 'line')\n",
    "        lineElement.set('n', str(lineNumber))\n",
    "        lineElement.text = l\n",
    "    \n",
    "xmlString = etree.tostring(rootElement, pretty_print=True, encoding='UTF-8')\n",
    "fh = open('output/paradise.xml','wb')\n",
    "fh.write(xmlString)\n",
    "fh.close()\n",
    "\n",
    "print('done!')"
   ]
  },
  {
   "cell_type": "code",
   "execution_count": null,
   "metadata": {},
   "outputs": [],
   "source": []
  }
 ],
 "metadata": {
  "kernelspec": {
   "display_name": "Python 3",
   "language": "python",
   "name": "python3"
  },
  "language_info": {
   "codemirror_mode": {
    "name": "ipython",
    "version": 3
   },
   "file_extension": ".py",
   "mimetype": "text/x-python",
   "name": "python",
   "nbconvert_exporter": "python",
   "pygments_lexer": "ipython3",
   "version": "3.5.3"
  }
 },
 "nbformat": 4,
 "nbformat_minor": 2
}
