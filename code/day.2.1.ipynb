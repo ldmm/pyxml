{
 "cells": [
  {
   "cell_type": "code",
   "execution_count": 1,
   "metadata": {
    "scrolled": true
   },
   "outputs": [
    {
     "name": "stdout",
     "output_type": "stream",
     "text": [
      "<price>$5.95</price>\n",
      "<description>Two of our famous Belgian Waffles with plenty of real maple syrup</description>\n"
     ]
    }
   ],
   "source": [
    "#1- import statements\n",
    "from bs4 import BeautifulSoup\n",
    "import lxml\n",
    "\n",
    "#2- open file\n",
    "f = open('class_materials/simple.xml','r')\n",
    "content = f.read()\n",
    "f.close()\n",
    "\n",
    "#3- create soup\n",
    "soup = BeautifulSoup(content, 'lxml')\n",
    "\n",
    "#4- parse\n",
    "print(soup.price)\n",
    "print(soup.description)"
   ]
  },
  {
   "cell_type": "code",
   "execution_count": 2,
   "metadata": {},
   "outputs": [
    {
     "name": "stdout",
     "output_type": "stream",
     "text": [
      "price\n",
      "$5.95\n"
     ]
    }
   ],
   "source": [
    "print(soup.price.name)\n",
    "print(soup.price.text)"
   ]
  },
  {
   "cell_type": "code",
   "execution_count": 3,
   "metadata": {},
   "outputs": [
    {
     "name": "stdout",
     "output_type": "stream",
     "text": [
      "<price>$5.95</price> $5.95\n",
      "<price>$7.95</price> $7.95\n",
      "<price>$8.95</price> $8.95\n",
      "<price>$4.50</price> $4.50\n",
      "<price>$6.95</price> $6.95\n"
     ]
    }
   ],
   "source": [
    "for e in soup.find_all('price'):\n",
    "    print(e, e.text)"
   ]
  },
  {
   "cell_type": "code",
   "execution_count": 4,
   "metadata": {},
   "outputs": [
    {
     "name": "stdout",
     "output_type": "stream",
     "text": [
      "<calories>650</calories> 650\n"
     ]
    }
   ],
   "source": [
    "e= soup.find('calories')\n",
    "print(e, e.text)"
   ]
  },
  {
   "cell_type": "code",
   "execution_count": 11,
   "metadata": {},
   "outputs": [
    {
     "name": "stdout",
     "output_type": "stream",
     "text": [
      "Two of our famous Belgian Waffles with plenty of real maple syrup - $5.95\n",
      "Light Belgian waffles covered with strawberries and whipped cream - $7.95\n",
      "Light Belgian waffles covered with an assortment of fresh berries and whipped cream - $8.95\n",
      "Thick slices made from our homemade sourdough bread - $4.50\n",
      "Two eggs, bacon or sausage, toast, and our ever-popular hash browns - $6.95\n"
     ]
    }
   ],
   "source": [
    "for e in soup.find_all('food'):\n",
    "    print(e.description.text, '-',e.price.text)"
   ]
  },
  {
   "cell_type": "code",
   "execution_count": 6,
   "metadata": {},
   "outputs": [
    {
     "name": "stdout",
     "output_type": "stream",
     "text": [
      "650\n",
      "1550\n",
      "2450\n",
      "3050\n",
      "4000\n",
      "the total is: 4000\n"
     ]
    }
   ],
   "source": [
    "#sum of all calories in all the recipes\n",
    "total = 0\n",
    "for e in soup.find_all('calories'):\n",
    "    total = total + int(e.text)\n",
    "    print(total)\n",
    "print('the total is:', total)"
   ]
  },
  {
   "cell_type": "code",
   "execution_count": 7,
   "metadata": {},
   "outputs": [
    {
     "name": "stdout",
     "output_type": "stream",
     "text": [
      "5.95\n",
      "7.95\n",
      "8.95\n",
      "4.50\n",
      "6.95\n",
      "34.300000000000004\n"
     ]
    }
   ],
   "source": [
    "#sum of all prices in all the recipes\n",
    "total = 0\n",
    "for e in soup.find_all('price'):\n",
    "    print(e.text[1:])\n",
    "    total += float(e.text[1:])\n",
    "print(total)"
   ]
  },
  {
   "cell_type": "code",
   "execution_count": null,
   "metadata": {},
   "outputs": [],
   "source": []
  }
 ],
 "metadata": {
  "kernelspec": {
   "display_name": "Python 3",
   "language": "python",
   "name": "python3"
  },
  "language_info": {
   "codemirror_mode": {
    "name": "ipython",
    "version": 3
   },
   "file_extension": ".py",
   "mimetype": "text/x-python",
   "name": "python",
   "nbconvert_exporter": "python",
   "pygments_lexer": "ipython3",
   "version": "3.7.3"
  }
 },
 "nbformat": 4,
 "nbformat_minor": 2
}
