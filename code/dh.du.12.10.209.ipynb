{
 "cells": [
  {
   "cell_type": "code",
   "execution_count": 4,
   "metadata": {},
   "outputs": [
    {
     "name": "stdout",
     "output_type": "stream",
     "text": [
      "hello Luis!\n"
     ]
    }
   ],
   "source": [
    "print('hello Luis!'')"
   ]
  },
  {
   "cell_type": "code",
   "execution_count": 6,
   "metadata": {},
   "outputs": [
    {
     "name": "stdout",
     "output_type": "stream",
     "text": [
      "what is your name? luis\n",
      "hello luis nice to see you!\n"
     ]
    }
   ],
   "source": [
    "name = input('what is your name? ')\n",
    "print('hello', name, 'nice to see you!')"
   ]
  },
  {
   "cell_type": "code",
   "execution_count": 10,
   "metadata": {},
   "outputs": [
    {
     "name": "stdout",
     "output_type": "stream",
     "text": [
      "first name? luis\n",
      "middle name? david\n",
      "last name? meneses\n",
      "Howdy luis david meneses!\n"
     ]
    }
   ],
   "source": [
    "first = input('first name? ')\n",
    "middle = input('middle name? ')\n",
    "last = input('last name? ')\n",
    "print('Howdy', first, middle, last + '!')"
   ]
  },
  {
   "cell_type": "code",
   "execution_count": 12,
   "metadata": {},
   "outputs": [
    {
     "name": "stdout",
     "output_type": "stream",
     "text": [
      "x: 4\n",
      "y: 5\n",
      "z: 8\n"
     ]
    }
   ],
   "source": [
    "x = 3\n",
    "y = 4\n",
    "z = x + y\n",
    "z = z + 1\n",
    "x = y\n",
    "y = 5\n",
    "print('x:', x)\n",
    "print('y:',y)\n",
    "print('z:',z)"
   ]
  },
  {
   "cell_type": "code",
   "execution_count": 43,
   "metadata": {},
   "outputs": [
    {
     "name": "stdout",
     "output_type": "stream",
     "text": [
      "please enter a number: 89\n",
      "the square of 89 is 7921.\n"
     ]
    }
   ],
   "source": [
    "number = input('please enter a number: ')\n",
    "newNumber = int(number)\n",
    "print('the square of', number, 'is', str(newNumber*newNumber)+'.')"
   ]
  },
  {
   "cell_type": "code",
   "execution_count": 15,
   "metadata": {},
   "outputs": [
    {
     "data": {
      "text/plain": [
       "True"
      ]
     },
     "execution_count": 15,
     "metadata": {},
     "output_type": "execute_result"
    }
   ],
   "source": [
    "10 < 5 or 15 != 60\n"
   ]
  },
  {
   "cell_type": "code",
   "execution_count": 16,
   "metadata": {},
   "outputs": [
    {
     "data": {
      "text/plain": [
       "False"
      ]
     },
     "execution_count": 16,
     "metadata": {},
     "output_type": "execute_result"
    }
   ],
   "source": [
    "10 < 5"
   ]
  },
  {
   "cell_type": "code",
   "execution_count": 17,
   "metadata": {},
   "outputs": [
    {
     "data": {
      "text/plain": [
       "True"
      ]
     },
     "execution_count": 17,
     "metadata": {},
     "output_type": "execute_result"
    }
   ],
   "source": [
    "15 != 60"
   ]
  },
  {
   "cell_type": "code",
   "execution_count": 18,
   "metadata": {},
   "outputs": [
    {
     "data": {
      "text/plain": [
       "True"
      ]
     },
     "execution_count": 18,
     "metadata": {},
     "output_type": "execute_result"
    }
   ],
   "source": [
    "False or True"
   ]
  },
  {
   "cell_type": "code",
   "execution_count": 26,
   "metadata": {},
   "outputs": [
    {
     "name": "stdout",
     "output_type": "stream",
     "text": [
      "16\n",
      "t\n",
      "y\n",
      "e\n",
      "tdyi \n"
     ]
    }
   ],
   "source": [
    "sentence = 'today is Tuesday'\n",
    "print(len(sentence))\n",
    "print(sentence[0])\n",
    "print(sentence[-1])\n",
    "print(sentence[-5])\n",
    "\n",
    "print(sentence[0:10:2])"
   ]
  },
  {
   "cell_type": "code",
   "execution_count": 27,
   "metadata": {},
   "outputs": [
    {
     "name": "stdout",
     "output_type": "stream",
     "text": [
      "chapter\n"
     ]
    }
   ],
   "source": [
    "xmlTag = '<chapter>'\n",
    "print(xmlTag[1:-1])"
   ]
  },
  {
   "cell_type": "code",
   "execution_count": 32,
   "metadata": {},
   "outputs": [
    {
     "name": "stdout",
     "output_type": "stream",
     "text": [
      "begin\n"
     ]
    }
   ],
   "source": [
    "print('begin')\n",
    "a = -58\n",
    "if a > 0:\n",
    " print('a is  positive')\n",
    " print('end')"
   ]
  },
  {
   "cell_type": "code",
   "execution_count": 42,
   "metadata": {},
   "outputs": [
    {
     "name": "stdout",
     "output_type": "stream",
     "text": [
      "please enter a number: 0\n",
      "it is zero\n"
     ]
    }
   ],
   "source": [
    "number = int(input('please enter a number: '))\n",
    "if number > 0:\n",
    "    print('it is positive')\n",
    "elif number <0:\n",
    "    print('it is negative')\n",
    "else:\n",
    "    print('it is zero')"
   ]
  },
  {
   "cell_type": "code",
   "execution_count": 44,
   "metadata": {},
   "outputs": [
    {
     "data": {
      "text/plain": [
       "1"
      ]
     },
     "execution_count": 44,
     "metadata": {},
     "output_type": "execute_result"
    }
   ],
   "source": [
    "5 % 2"
   ]
  },
  {
   "cell_type": "code",
   "execution_count": 45,
   "metadata": {},
   "outputs": [
    {
     "data": {
      "text/plain": [
       "0"
      ]
     },
     "execution_count": 45,
     "metadata": {},
     "output_type": "execute_result"
    }
   ],
   "source": [
    "6 % 2"
   ]
  },
  {
   "cell_type": "code",
   "execution_count": null,
   "metadata": {},
   "outputs": [],
   "source": [
    "#write a program that asks the user for a number.\n",
    "#and prints its corresponding letter grade.\n",
    "# use the following scale\n",
    "#hd 85 - 100\n",
    "#d 75-84\n",
    "#c 65-74\n",
    "#p 50 -64\n",
    "#f anything under 50"
   ]
  },
  {
   "cell_type": "code",
   "execution_count": 68,
   "metadata": {},
   "outputs": [
    {
     "name": "stdout",
     "output_type": "stream",
     "text": [
      "1\n",
      "4\n",
      "[1, 2, 3, 'water']\n",
      "[1, 2, 3, 'water', 'gold']\n",
      "[1, 2, 3, 'water', 'gold', ['apples', 'oranges', 'lemons']]\n",
      "oranges\n",
      "1\n",
      "2\n",
      "3\n",
      "water\n",
      "gold\n",
      "['apples', 'oranges', 'lemons']\n",
      "0 Newcastle!\n",
      "1 Newcastle!\n"
     ]
    }
   ],
   "source": [
    "myList = [1,2,3,4]\n",
    "print(myList[0])\n",
    "print(myList[3])\n",
    "\n",
    "myList[-1] = 'water'\n",
    "print(myList)\n",
    "\n",
    "myList += ['gold']\n",
    "print(myList)\n",
    "\n",
    "myList += [['apples','oranges','lemons']]\n",
    "print(myList)\n",
    "\n",
    "print(myList[5][1])\n",
    "\n",
    "#myList2 = list(range(0,100000,100))\n",
    "#print(myList2)\n",
    "\n",
    "for item in myList:\n",
    "    print(item)\n",
    "    \n",
    "    \n",
    "for r in range(0,2):\n",
    "    print(r, 'Newcastle!')"
   ]
  },
  {
   "cell_type": "code",
   "execution_count": null,
   "metadata": {},
   "outputs": [],
   "source": [
    "#write a program that asks the user for his name\n",
    "#print each character in his name in a new line\n"
   ]
  }
 ],
 "metadata": {
  "kernelspec": {
   "display_name": "Python 3",
   "language": "python",
   "name": "python3"
  },
  "language_info": {
   "codemirror_mode": {
    "name": "ipython",
    "version": 3
   },
   "file_extension": ".py",
   "mimetype": "text/x-python",
   "name": "python",
   "nbconvert_exporter": "python",
   "pygments_lexer": "ipython3",
   "version": "3.7.3"
  }
 },
 "nbformat": 4,
 "nbformat_minor": 2
}
